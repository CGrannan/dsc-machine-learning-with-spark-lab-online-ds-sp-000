{
  "nbformat": 4,
  "nbformat_minor": 0,
  "metadata": {
    "kernelspec": {
      "display_name": "Python 3",
      "language": "python",
      "name": "python3"
    },
    "language_info": {
      "codemirror_mode": {
        "name": "ipython",
        "version": 3
      },
      "file_extension": ".py",
      "mimetype": "text/x-python",
      "name": "python",
      "nbconvert_exporter": "python",
      "pygments_lexer": "ipython3",
      "version": "3.7.3"
    },
    "colab": {
      "name": "index.ipynb",
      "provenance": [],
      "toc_visible": true,
      "include_colab_link": true
    }
  },
  "cells": [
    {
      "cell_type": "markdown",
      "metadata": {
        "id": "view-in-github",
        "colab_type": "text"
      },
      "source": [
        "<a href=\"https://colab.research.google.com/github/CGrannan/dsc-machine-learning-with-spark-lab-online-ds-sp-000/blob/master/index.ipynb\" target=\"_parent\"><img src=\"https://colab.research.google.com/assets/colab-badge.svg\" alt=\"Open In Colab\"/></a>"
      ]
    },
    {
      "cell_type": "code",
      "metadata": {
        "id": "RAqD15hcuQ2T",
        "colab_type": "code",
        "colab": {
          "base_uri": "https://localhost:8080/",
          "height": 411
        },
        "outputId": "e98c3533-7291-441c-88dd-1b0519b7d5d5"
      },
      "source": [
        "!apt update\n",
        "!apt-get install openjdk-8-jdk-headless -qq > /dev/null\n",
        "!wget -q https://downloads.apache.org/spark/spark-2.4.6/spark-2.4.6-bin-hadoop2.7.tgz\n",
        "!tar xf spark-2.4.6-bin-hadoop2.7.tgz\n",
        "!pip install -q findspark\n",
        "\n",
        "!pip install pyspark\n",
        "\n",
        "import os\n",
        "os.environ[\"JAVA_HOME\"] = \"/usr/lib/jvm/java-8-openjdk-amd64\"\n",
        "os.environ[\"SPARK_HOME\"] = \"/content/spark-2.4.6-bin-hadoop2.7\"\n",
        "\n",
        "import findspark\n",
        "findspark.init()"
      ],
      "execution_count": 1,
      "outputs": [
        {
          "output_type": "stream",
          "text": [
            "\u001b[33m\r0% [Working]\u001b[0m\r            \rGet:1 http://security.ubuntu.com/ubuntu bionic-security InRelease [88.7 kB]\n",
            "\u001b[33m\r0% [Connecting to archive.ubuntu.com (91.189.88.152)] [1 InRelease 14.2 kB/88.7\u001b[0m\u001b[33m\r0% [Connecting to archive.ubuntu.com (91.189.88.152)] [Connected to cloud.r-pro\u001b[0m\r                                                                               \rIgn:2 https://developer.download.nvidia.com/compute/cuda/repos/ubuntu1804/x86_64  InRelease\n",
            "\u001b[33m\r0% [Waiting for headers] [Waiting for headers] [Waiting for headers] [Connectin\u001b[0m\u001b[33m\r0% [1 InRelease gpgv 88.7 kB] [Waiting for headers] [Waiting for headers] [Wait\u001b[0m\r                                                                               \rHit:3 https://cloud.r-project.org/bin/linux/ubuntu bionic-cran35/ InRelease\n",
            "\u001b[33m\r0% [1 InRelease gpgv 88.7 kB] [Waiting for headers] [Waiting for headers] [Conn\u001b[0m\r                                                                               \rIgn:4 https://developer.download.nvidia.com/compute/machine-learning/repos/ubuntu1804/x86_64  InRelease\n",
            "\u001b[33m\r0% [1 InRelease gpgv 88.7 kB] [Waiting for headers] [Connecting to ppa.launchpa\u001b[0m\r                                                                               \rHit:5 https://developer.download.nvidia.com/compute/cuda/repos/ubuntu1804/x86_64  Release\n",
            "\u001b[33m\r                                                                               \r0% [1 InRelease gpgv 88.7 kB] [Waiting for headers] [Waiting for headers]\u001b[0m\r                                                                         \rHit:6 http://archive.ubuntu.com/ubuntu bionic InRelease\n",
            "Hit:7 https://developer.download.nvidia.com/compute/machine-learning/repos/ubuntu1804/x86_64  Release\n",
            "Hit:8 http://ppa.launchpad.net/graphics-drivers/ppa/ubuntu bionic InRelease\n",
            "Get:9 http://archive.ubuntu.com/ubuntu bionic-updates InRelease [88.7 kB]\n",
            "Get:10 http://security.ubuntu.com/ubuntu bionic-security/universe amd64 Packages [890 kB]\n",
            "Hit:11 http://ppa.launchpad.net/marutter/c2d4u3.5/ubuntu bionic InRelease\n",
            "Get:12 http://security.ubuntu.com/ubuntu bionic-security/multiverse amd64 Packages [9,834 B]\n",
            "Get:13 http://archive.ubuntu.com/ubuntu bionic-backports InRelease [74.6 kB]\n",
            "Get:16 http://archive.ubuntu.com/ubuntu bionic-updates/main amd64 Packages [1,339 kB]\n",
            "Get:17 http://archive.ubuntu.com/ubuntu bionic-updates/restricted amd64 Packages [117 kB]\n",
            "Fetched 2,608 kB in 3s (962 kB/s)\n",
            "Reading package lists... Done\n",
            "Building dependency tree       \n",
            "Reading state information... Done\n",
            "55 packages can be upgraded. Run 'apt list --upgradable' to see them.\n",
            "Requirement already satisfied: pyspark in /usr/local/lib/python3.6/dist-packages (3.0.0)\n",
            "Requirement already satisfied: py4j==0.10.9 in /usr/local/lib/python3.6/dist-packages (from pyspark) (0.10.9)\n"
          ],
          "name": "stdout"
        }
      ]
    },
    {
      "cell_type": "code",
      "metadata": {
        "id": "6wZf9FZJvT-C",
        "colab_type": "code",
        "colab": {
          "resources": {
            "http://localhost:8080/nbextensions/google.colab/files.js": {
              "data": "Ly8gQ29weXJpZ2h0IDIwMTcgR29vZ2xlIExMQwovLwovLyBMaWNlbnNlZCB1bmRlciB0aGUgQXBhY2hlIExpY2Vuc2UsIFZlcnNpb24gMi4wICh0aGUgIkxpY2Vuc2UiKTsKLy8geW91IG1heSBub3QgdXNlIHRoaXMgZmlsZSBleGNlcHQgaW4gY29tcGxpYW5jZSB3aXRoIHRoZSBMaWNlbnNlLgovLyBZb3UgbWF5IG9idGFpbiBhIGNvcHkgb2YgdGhlIExpY2Vuc2UgYXQKLy8KLy8gICAgICBodHRwOi8vd3d3LmFwYWNoZS5vcmcvbGljZW5zZXMvTElDRU5TRS0yLjAKLy8KLy8gVW5sZXNzIHJlcXVpcmVkIGJ5IGFwcGxpY2FibGUgbGF3IG9yIGFncmVlZCB0byBpbiB3cml0aW5nLCBzb2Z0d2FyZQovLyBkaXN0cmlidXRlZCB1bmRlciB0aGUgTGljZW5zZSBpcyBkaXN0cmlidXRlZCBvbiBhbiAiQVMgSVMiIEJBU0lTLAovLyBXSVRIT1VUIFdBUlJBTlRJRVMgT1IgQ09ORElUSU9OUyBPRiBBTlkgS0lORCwgZWl0aGVyIGV4cHJlc3Mgb3IgaW1wbGllZC4KLy8gU2VlIHRoZSBMaWNlbnNlIGZvciB0aGUgc3BlY2lmaWMgbGFuZ3VhZ2UgZ292ZXJuaW5nIHBlcm1pc3Npb25zIGFuZAovLyBsaW1pdGF0aW9ucyB1bmRlciB0aGUgTGljZW5zZS4KCi8qKgogKiBAZmlsZW92ZXJ2aWV3IEhlbHBlcnMgZm9yIGdvb2dsZS5jb2xhYiBQeXRob24gbW9kdWxlLgogKi8KKGZ1bmN0aW9uKHNjb3BlKSB7CmZ1bmN0aW9uIHNwYW4odGV4dCwgc3R5bGVBdHRyaWJ1dGVzID0ge30pIHsKICBjb25zdCBlbGVtZW50ID0gZG9jdW1lbnQuY3JlYXRlRWxlbWVudCgnc3BhbicpOwogIGVsZW1lbnQudGV4dENvbnRlbnQgPSB0ZXh0OwogIGZvciAoY29uc3Qga2V5IG9mIE9iamVjdC5rZXlzKHN0eWxlQXR0cmlidXRlcykpIHsKICAgIGVsZW1lbnQuc3R5bGVba2V5XSA9IHN0eWxlQXR0cmlidXRlc1trZXldOwogIH0KICByZXR1cm4gZWxlbWVudDsKfQoKLy8gTWF4IG51bWJlciBvZiBieXRlcyB3aGljaCB3aWxsIGJlIHVwbG9hZGVkIGF0IGEgdGltZS4KY29uc3QgTUFYX1BBWUxPQURfU0laRSA9IDEwMCAqIDEwMjQ7CgpmdW5jdGlvbiBfdXBsb2FkRmlsZXMoaW5wdXRJZCwgb3V0cHV0SWQpIHsKICBjb25zdCBzdGVwcyA9IHVwbG9hZEZpbGVzU3RlcChpbnB1dElkLCBvdXRwdXRJZCk7CiAgY29uc3Qgb3V0cHV0RWxlbWVudCA9IGRvY3VtZW50LmdldEVsZW1lbnRCeUlkKG91dHB1dElkKTsKICAvLyBDYWNoZSBzdGVwcyBvbiB0aGUgb3V0cHV0RWxlbWVudCB0byBtYWtlIGl0IGF2YWlsYWJsZSBmb3IgdGhlIG5leHQgY2FsbAogIC8vIHRvIHVwbG9hZEZpbGVzQ29udGludWUgZnJvbSBQeXRob24uCiAgb3V0cHV0RWxlbWVudC5zdGVwcyA9IHN0ZXBzOwoKICByZXR1cm4gX3VwbG9hZEZpbGVzQ29udGludWUob3V0cHV0SWQpOwp9CgovLyBUaGlzIGlzIHJvdWdobHkgYW4gYXN5bmMgZ2VuZXJhdG9yIChub3Qgc3VwcG9ydGVkIGluIHRoZSBicm93c2VyIHlldCksCi8vIHdoZXJlIHRoZXJlIGFyZSBtdWx0aXBsZSBhc3luY2hyb25vdXMgc3RlcHMgYW5kIHRoZSBQeXRob24gc2lkZSBpcyBnb2luZwovLyB0byBwb2xsIGZvciBjb21wbGV0aW9uIG9mIGVhY2ggc3RlcC4KLy8gVGhpcyB1c2VzIGEgUHJvbWlzZSB0byBibG9jayB0aGUgcHl0aG9uIHNpZGUgb24gY29tcGxldGlvbiBvZiBlYWNoIHN0ZXAsCi8vIHRoZW4gcGFzc2VzIHRoZSByZXN1bHQgb2YgdGhlIHByZXZpb3VzIHN0ZXAgYXMgdGhlIGlucHV0IHRvIHRoZSBuZXh0IHN0ZXAuCmZ1bmN0aW9uIF91cGxvYWRGaWxlc0NvbnRpbnVlKG91dHB1dElkKSB7CiAgY29uc3Qgb3V0cHV0RWxlbWVudCA9IGRvY3VtZW50LmdldEVsZW1lbnRCeUlkKG91dHB1dElkKTsKICBjb25zdCBzdGVwcyA9IG91dHB1dEVsZW1lbnQuc3RlcHM7CgogIGNvbnN0IG5leHQgPSBzdGVwcy5uZXh0KG91dHB1dEVsZW1lbnQubGFzdFByb21pc2VWYWx1ZSk7CiAgcmV0dXJuIFByb21pc2UucmVzb2x2ZShuZXh0LnZhbHVlLnByb21pc2UpLnRoZW4oKHZhbHVlKSA9PiB7CiAgICAvLyBDYWNoZSB0aGUgbGFzdCBwcm9taXNlIHZhbHVlIHRvIG1ha2UgaXQgYXZhaWxhYmxlIHRvIHRoZSBuZXh0CiAgICAvLyBzdGVwIG9mIHRoZSBnZW5lcmF0b3IuCiAgICBvdXRwdXRFbGVtZW50Lmxhc3RQcm9taXNlVmFsdWUgPSB2YWx1ZTsKICAgIHJldHVybiBuZXh0LnZhbHVlLnJlc3BvbnNlOwogIH0pOwp9CgovKioKICogR2VuZXJhdG9yIGZ1bmN0aW9uIHdoaWNoIGlzIGNhbGxlZCBiZXR3ZWVuIGVhY2ggYXN5bmMgc3RlcCBvZiB0aGUgdXBsb2FkCiAqIHByb2Nlc3MuCiAqIEBwYXJhbSB7c3RyaW5nfSBpbnB1dElkIEVsZW1lbnQgSUQgb2YgdGhlIGlucHV0IGZpbGUgcGlja2VyIGVsZW1lbnQuCiAqIEBwYXJhbSB7c3RyaW5nfSBvdXRwdXRJZCBFbGVtZW50IElEIG9mIHRoZSBvdXRwdXQgZGlzcGxheS4KICogQHJldHVybiB7IUl0ZXJhYmxlPCFPYmplY3Q+fSBJdGVyYWJsZSBvZiBuZXh0IHN0ZXBzLgogKi8KZnVuY3Rpb24qIHVwbG9hZEZpbGVzU3RlcChpbnB1dElkLCBvdXRwdXRJZCkgewogIGNvbnN0IGlucHV0RWxlbWVudCA9IGRvY3VtZW50LmdldEVsZW1lbnRCeUlkKGlucHV0SWQpOwogIGlucHV0RWxlbWVudC5kaXNhYmxlZCA9IGZhbHNlOwoKICBjb25zdCBvdXRwdXRFbGVtZW50ID0gZG9jdW1lbnQuZ2V0RWxlbWVudEJ5SWQob3V0cHV0SWQpOwogIG91dHB1dEVsZW1lbnQuaW5uZXJIVE1MID0gJyc7CgogIGNvbnN0IHBpY2tlZFByb21pc2UgPSBuZXcgUHJvbWlzZSgocmVzb2x2ZSkgPT4gewogICAgaW5wdXRFbGVtZW50LmFkZEV2ZW50TGlzdGVuZXIoJ2NoYW5nZScsIChlKSA9PiB7CiAgICAgIHJlc29sdmUoZS50YXJnZXQuZmlsZXMpOwogICAgfSk7CiAgfSk7CgogIGNvbnN0IGNhbmNlbCA9IGRvY3VtZW50LmNyZWF0ZUVsZW1lbnQoJ2J1dHRvbicpOwogIGlucHV0RWxlbWVudC5wYXJlbnRFbGVtZW50LmFwcGVuZENoaWxkKGNhbmNlbCk7CiAgY2FuY2VsLnRleHRDb250ZW50ID0gJ0NhbmNlbCB1cGxvYWQnOwogIGNvbnN0IGNhbmNlbFByb21pc2UgPSBuZXcgUHJvbWlzZSgocmVzb2x2ZSkgPT4gewogICAgY2FuY2VsLm9uY2xpY2sgPSAoKSA9PiB7CiAgICAgIHJlc29sdmUobnVsbCk7CiAgICB9OwogIH0pOwoKICAvLyBXYWl0IGZvciB0aGUgdXNlciB0byBwaWNrIHRoZSBmaWxlcy4KICBjb25zdCBmaWxlcyA9IHlpZWxkIHsKICAgIHByb21pc2U6IFByb21pc2UucmFjZShbcGlja2VkUHJvbWlzZSwgY2FuY2VsUHJvbWlzZV0pLAogICAgcmVzcG9uc2U6IHsKICAgICAgYWN0aW9uOiAnc3RhcnRpbmcnLAogICAgfQogIH07CgogIGNhbmNlbC5yZW1vdmUoKTsKCiAgLy8gRGlzYWJsZSB0aGUgaW5wdXQgZWxlbWVudCBzaW5jZSBmdXJ0aGVyIHBpY2tzIGFyZSBub3QgYWxsb3dlZC4KICBpbnB1dEVsZW1lbnQuZGlzYWJsZWQgPSB0cnVlOwoKICBpZiAoIWZpbGVzKSB7CiAgICByZXR1cm4gewogICAgICByZXNwb25zZTogewogICAgICAgIGFjdGlvbjogJ2NvbXBsZXRlJywKICAgICAgfQogICAgfTsKICB9CgogIGZvciAoY29uc3QgZmlsZSBvZiBmaWxlcykgewogICAgY29uc3QgbGkgPSBkb2N1bWVudC5jcmVhdGVFbGVtZW50KCdsaScpOwogICAgbGkuYXBwZW5kKHNwYW4oZmlsZS5uYW1lLCB7Zm9udFdlaWdodDogJ2JvbGQnfSkpOwogICAgbGkuYXBwZW5kKHNwYW4oCiAgICAgICAgYCgke2ZpbGUudHlwZSB8fCAnbi9hJ30pIC0gJHtmaWxlLnNpemV9IGJ5dGVzLCBgICsKICAgICAgICBgbGFzdCBtb2RpZmllZDogJHsKICAgICAgICAgICAgZmlsZS5sYXN0TW9kaWZpZWREYXRlID8gZmlsZS5sYXN0TW9kaWZpZWREYXRlLnRvTG9jYWxlRGF0ZVN0cmluZygpIDoKICAgICAgICAgICAgICAgICAgICAgICAgICAgICAgICAgICAgJ24vYSd9IC0gYCkpOwogICAgY29uc3QgcGVyY2VudCA9IHNwYW4oJzAlIGRvbmUnKTsKICAgIGxpLmFwcGVuZENoaWxkKHBlcmNlbnQpOwoKICAgIG91dHB1dEVsZW1lbnQuYXBwZW5kQ2hpbGQobGkpOwoKICAgIGNvbnN0IGZpbGVEYXRhUHJvbWlzZSA9IG5ldyBQcm9taXNlKChyZXNvbHZlKSA9PiB7CiAgICAgIGNvbnN0IHJlYWRlciA9IG5ldyBGaWxlUmVhZGVyKCk7CiAgICAgIHJlYWRlci5vbmxvYWQgPSAoZSkgPT4gewogICAgICAgIHJlc29sdmUoZS50YXJnZXQucmVzdWx0KTsKICAgICAgfTsKICAgICAgcmVhZGVyLnJlYWRBc0FycmF5QnVmZmVyKGZpbGUpOwogICAgfSk7CiAgICAvLyBXYWl0IGZvciB0aGUgZGF0YSB0byBiZSByZWFkeS4KICAgIGxldCBmaWxlRGF0YSA9IHlpZWxkIHsKICAgICAgcHJvbWlzZTogZmlsZURhdGFQcm9taXNlLAogICAgICByZXNwb25zZTogewogICAgICAgIGFjdGlvbjogJ2NvbnRpbnVlJywKICAgICAgfQogICAgfTsKCiAgICAvLyBVc2UgYSBjaHVua2VkIHNlbmRpbmcgdG8gYXZvaWQgbWVzc2FnZSBzaXplIGxpbWl0cy4gU2VlIGIvNjIxMTU2NjAuCiAgICBsZXQgcG9zaXRpb24gPSAwOwogICAgd2hpbGUgKHBvc2l0aW9uIDwgZmlsZURhdGEuYnl0ZUxlbmd0aCkgewogICAgICBjb25zdCBsZW5ndGggPSBNYXRoLm1pbihmaWxlRGF0YS5ieXRlTGVuZ3RoIC0gcG9zaXRpb24sIE1BWF9QQVlMT0FEX1NJWkUpOwogICAgICBjb25zdCBjaHVuayA9IG5ldyBVaW50OEFycmF5KGZpbGVEYXRhLCBwb3NpdGlvbiwgbGVuZ3RoKTsKICAgICAgcG9zaXRpb24gKz0gbGVuZ3RoOwoKICAgICAgY29uc3QgYmFzZTY0ID0gYnRvYShTdHJpbmcuZnJvbUNoYXJDb2RlLmFwcGx5KG51bGwsIGNodW5rKSk7CiAgICAgIHlpZWxkIHsKICAgICAgICByZXNwb25zZTogewogICAgICAgICAgYWN0aW9uOiAnYXBwZW5kJywKICAgICAgICAgIGZpbGU6IGZpbGUubmFtZSwKICAgICAgICAgIGRhdGE6IGJhc2U2NCwKICAgICAgICB9LAogICAgICB9OwogICAgICBwZXJjZW50LnRleHRDb250ZW50ID0KICAgICAgICAgIGAke01hdGgucm91bmQoKHBvc2l0aW9uIC8gZmlsZURhdGEuYnl0ZUxlbmd0aCkgKiAxMDApfSUgZG9uZWA7CiAgICB9CiAgfQoKICAvLyBBbGwgZG9uZS4KICB5aWVsZCB7CiAgICByZXNwb25zZTogewogICAgICBhY3Rpb246ICdjb21wbGV0ZScsCiAgICB9CiAgfTsKfQoKc2NvcGUuZ29vZ2xlID0gc2NvcGUuZ29vZ2xlIHx8IHt9OwpzY29wZS5nb29nbGUuY29sYWIgPSBzY29wZS5nb29nbGUuY29sYWIgfHwge307CnNjb3BlLmdvb2dsZS5jb2xhYi5fZmlsZXMgPSB7CiAgX3VwbG9hZEZpbGVzLAogIF91cGxvYWRGaWxlc0NvbnRpbnVlLAp9Owp9KShzZWxmKTsK",
              "ok": true,
              "headers": [
                [
                  "content-type",
                  "application/javascript"
                ]
              ],
              "status": 200,
              "status_text": ""
            }
          },
          "base_uri": "https://localhost:8080/",
          "height": 72
        },
        "outputId": "aa05e10e-3e17-4d89-ca43-6f91e68dc2f1"
      },
      "source": [
        "from google.colab import files\n",
        "uploaded = files.upload()"
      ],
      "execution_count": 2,
      "outputs": [
        {
          "output_type": "display_data",
          "data": {
            "text/html": [
              "\n",
              "     <input type=\"file\" id=\"files-9a135684-d1ae-4841-99c9-9f6284c4394f\" name=\"files[]\" multiple disabled\n",
              "        style=\"border:none\" />\n",
              "     <output id=\"result-9a135684-d1ae-4841-99c9-9f6284c4394f\">\n",
              "      Upload widget is only available when the cell has been executed in the\n",
              "      current browser session. Please rerun this cell to enable.\n",
              "      </output>\n",
              "      <script src=\"/nbextensions/google.colab/files.js\"></script> "
            ],
            "text/plain": [
              "<IPython.core.display.HTML object>"
            ]
          },
          "metadata": {
            "tags": []
          }
        },
        {
          "output_type": "stream",
          "text": [
            "Saving credit_card_default.csv to credit_card_default.csv\n"
          ],
          "name": "stdout"
        }
      ]
    },
    {
      "cell_type": "markdown",
      "metadata": {
        "id": "EYK_Z_U9uO2e",
        "colab_type": "text"
      },
      "source": [
        "## Machine Learning with Spark - Lab\n",
        "\n",
        "## Introduction\n",
        "\n",
        "In the previous lesson, you saw how to manipulate data with Spark DataFrames as well as create machine learning models. In this lab, you're going to practice loading data, manipulating it, and fitting it in the Spark framework. Afterward, you're going to make use of different visualizations to see if you can get any insights from the model. This dataset is from a Taiwanese financial company, and the task is to determine which individuals are going to default on their credit card based off of characteristics such as limit balance, past payment history, age, marriage status, and sex. Let's get started!\n",
        "\n",
        "### Objectives\n",
        "\n",
        "In this lab you will: \n",
        "\n",
        "- Load and manipulate data using Spark DataFrames \n",
        "- Create a Spark ML pipeline that transforms data and runs over a grid of hyperparameters "
      ]
    },
    {
      "cell_type": "markdown",
      "metadata": {
        "id": "lUQ2PsHkuO2k",
        "colab_type": "text"
      },
      "source": [
        "To begin with create a SparkSession and import the `'credit_card_default.csv'` file  into a PySpark DataFrame. "
      ]
    },
    {
      "cell_type": "code",
      "metadata": {
        "id": "m2lQAaY7uO2q",
        "colab_type": "code",
        "colab": {}
      },
      "source": [
        "# import necessary libraries\n",
        "from pyspark import SparkContext\n",
        "from pyspark.sql import SparkSession\n",
        "# initialize Spark Session\n",
        "spark = SparkSession.builder.master('local').getOrCreate()\n",
        "\n",
        "# read in csv to a spark dataframe\n",
        "spark_df = spark.read.csv('credit_card_default.csv', header=True, inferSchema=True)"
      ],
      "execution_count": 3,
      "outputs": []
    },
    {
      "cell_type": "markdown",
      "metadata": {
        "id": "vHudaCM7uO2v",
        "colab_type": "text"
      },
      "source": [
        "Check the datatypes to ensure that all columns are the datatype you expect."
      ]
    },
    {
      "cell_type": "code",
      "metadata": {
        "id": "n_K7RqBVuO2x",
        "colab_type": "code",
        "colab": {
          "base_uri": "https://localhost:8080/",
          "height": 442
        },
        "outputId": "9e436246-c719-481a-c7ce-b424a13a6d1a"
      },
      "source": [
        "spark_df.dtypes"
      ],
      "execution_count": 4,
      "outputs": [
        {
          "output_type": "execute_result",
          "data": {
            "text/plain": [
              "[('ID', 'int'),\n",
              " ('LIMIT_BAL', 'double'),\n",
              " ('SEX', 'string'),\n",
              " ('EDUCATION', 'string'),\n",
              " ('MARRIAGE', 'string'),\n",
              " ('AGE', 'int'),\n",
              " ('PAY_0', 'int'),\n",
              " ('PAY_2', 'int'),\n",
              " ('PAY_3', 'int'),\n",
              " ('PAY_4', 'int'),\n",
              " ('PAY_5', 'int'),\n",
              " ('PAY_6', 'int'),\n",
              " ('BILL_AMT1', 'double'),\n",
              " ('BILL_AMT2', 'double'),\n",
              " ('BILL_AMT3', 'double'),\n",
              " ('BILL_AMT4', 'double'),\n",
              " ('BILL_AMT5', 'double'),\n",
              " ('BILL_AMT6', 'double'),\n",
              " ('PAY_AMT1', 'double'),\n",
              " ('PAY_AMT2', 'double'),\n",
              " ('PAY_AMT3', 'double'),\n",
              " ('PAY_AMT4', 'double'),\n",
              " ('PAY_AMT5', 'double'),\n",
              " ('PAY_AMT6', 'double'),\n",
              " ('default', 'int')]"
            ]
          },
          "metadata": {
            "tags": []
          },
          "execution_count": 4
        }
      ]
    },
    {
      "cell_type": "markdown",
      "metadata": {
        "id": "D5UxLETluO25",
        "colab_type": "text"
      },
      "source": [
        "Check to see how many missing values are in the dataset. This will require using the `.filter()` , `.isNull()`, and `.count()` methods."
      ]
    },
    {
      "cell_type": "code",
      "metadata": {
        "id": "VuWrGsnVuO26",
        "colab_type": "code",
        "colab": {
          "base_uri": "https://localhost:8080/",
          "height": 442
        },
        "outputId": "239e2aa7-0677-415c-8e2f-deea9c74ae71"
      },
      "source": [
        "for col in spark_df.columns:\n",
        "    print('column ', col, spark_df.filter(spark_df[col].isNull()).count())"
      ],
      "execution_count": 5,
      "outputs": [
        {
          "output_type": "stream",
          "text": [
            "column  ID 0\n",
            "column  LIMIT_BAL 0\n",
            "column  SEX 0\n",
            "column  EDUCATION 0\n",
            "column  MARRIAGE 0\n",
            "column  AGE 0\n",
            "column  PAY_0 0\n",
            "column  PAY_2 0\n",
            "column  PAY_3 0\n",
            "column  PAY_4 0\n",
            "column  PAY_5 0\n",
            "column  PAY_6 0\n",
            "column  BILL_AMT1 0\n",
            "column  BILL_AMT2 0\n",
            "column  BILL_AMT3 0\n",
            "column  BILL_AMT4 0\n",
            "column  BILL_AMT5 0\n",
            "column  BILL_AMT6 0\n",
            "column  PAY_AMT1 0\n",
            "column  PAY_AMT2 0\n",
            "column  PAY_AMT3 0\n",
            "column  PAY_AMT4 0\n",
            "column  PAY_AMT5 0\n",
            "column  PAY_AMT6 0\n",
            "column  default 0\n"
          ],
          "name": "stdout"
        }
      ]
    },
    {
      "cell_type": "markdown",
      "metadata": {
        "id": "O3uR5hYwuO3G",
        "colab_type": "text"
      },
      "source": [
        "Now, determine how many categories there are in each of the categorical columns."
      ]
    },
    {
      "cell_type": "code",
      "metadata": {
        "id": "uiWCyIXjuO3H",
        "colab_type": "code",
        "colab": {
          "base_uri": "https://localhost:8080/",
          "height": 88
        },
        "outputId": "e9832016-48d3-407d-b4ca-bbec1616130a"
      },
      "source": [
        "for column, data_type in spark_df.dtypes:\n",
        "   if data_type == 'string':\n",
        "     print('Feature ', column, ' has:', spark_df.select(column).distinct().collect())"
      ],
      "execution_count": 6,
      "outputs": [
        {
          "output_type": "stream",
          "text": [
            "Feature  SEX  has: [Row(SEX='Female'), Row(SEX='Male')]\n",
            "Feature  EDUCATION  has: [Row(EDUCATION='High School'), Row(EDUCATION='0'), Row(EDUCATION='5'), Row(EDUCATION='6'), Row(EDUCATION='Other'), Row(EDUCATION='Graduate'), Row(EDUCATION='College')]\n",
            "Feature  MARRIAGE  has: [Row(MARRIAGE='0'), Row(MARRIAGE='Other'), Row(MARRIAGE='Married'), Row(MARRIAGE='Single')]\n"
          ],
          "name": "stdout"
        }
      ]
    },
    {
      "cell_type": "markdown",
      "metadata": {
        "id": "J3Imeu6zuO3M",
        "colab_type": "text"
      },
      "source": [
        "Interesting... it looks like we have some extraneous values in each of our categories. Let's look at some visualizations of each of these to determine just how many of them there are. Create bar plots of the variables `'EDUCATION'` and `'MARRIAGE'` to see how many of the undefined values there are. After doing so, come up with a strategy for accounting for the extra values."
      ]
    },
    {
      "cell_type": "code",
      "metadata": {
        "id": "IxYsAVy4uO3N",
        "colab_type": "code",
        "colab": {
          "base_uri": "https://localhost:8080/",
          "height": 336
        },
        "outputId": "f436d4e8-6eb6-4f28-b8d2-12be630f3172"
      },
      "source": [
        "import seaborn as sns\n",
        "import matplotlib.pyplot as plt\n",
        "\n",
        "education = spark_df.groupBy('Education').count().collect()\n",
        "sns.barplot([x[0] for x in education], [x[1] for x in education])"
      ],
      "execution_count": 7,
      "outputs": [
        {
          "output_type": "stream",
          "text": [
            "/usr/local/lib/python3.6/dist-packages/statsmodels/tools/_testing.py:19: FutureWarning: pandas.util.testing is deprecated. Use the functions in the public API at pandas.testing instead.\n",
            "  import pandas.util.testing as tm\n"
          ],
          "name": "stderr"
        },
        {
          "output_type": "execute_result",
          "data": {
            "text/plain": [
              "<matplotlib.axes._subplots.AxesSubplot at 0x7f484aebc1d0>"
            ]
          },
          "metadata": {
            "tags": []
          },
          "execution_count": 7
        },
        {
          "output_type": "display_data",
          "data": {
            "image/png": "[encoded data removed]",
            "text/plain": [
              "<Figure size 432x288 with 1 Axes>"
            ]
          },
          "metadata": {
            "tags": [],
            "needs_background": "light"
          }
        }
      ]
    },
    {
      "cell_type": "code",
      "metadata": {
        "id": "y1ZtezNzuO3R",
        "colab_type": "code",
        "colab": {
          "base_uri": "https://localhost:8080/",
          "height": 282
        },
        "outputId": "86051a49-d99d-4f78-da89-8d2035ec27c4"
      },
      "source": [
        "## plotting the categories for marriage\n",
        "marriage = spark_df.groupBy('MARRIAGE').count().collect()\n",
        "sns.barplot([x[0] for x in marriage], [x[1] for x in marriage])"
      ],
      "execution_count": 8,
      "outputs": [
        {
          "output_type": "execute_result",
          "data": {
            "text/plain": [
              "<matplotlib.axes._subplots.AxesSubplot at 0x7f484a95fa58>"
            ]
          },
          "metadata": {
            "tags": []
          },
          "execution_count": 8
        },
        {
          "output_type": "display_data",
          "data": {
            "image/png": "[encoded data removed]",
            "text/plain": [
              "<Figure size 432x288 with 1 Axes>"
            ]
          },
          "metadata": {
            "tags": [],
            "needs_background": "light"
          }
        }
      ]
    },
    {
      "cell_type": "markdown",
      "metadata": {
        "id": "21vx6bhkuO3Y",
        "colab_type": "text"
      },
      "source": [
        "It looks like there are barely any of the 0 and 5 categories. We can go ahead and throw them into the \"Other\" category since it's already operating as a catchall here. Similarly, the category \"0\" looks small, so let's throw it in with the \"Other\" values. You can do this by using a method called `.when()` from PySpark in conjunction with `.withColumn()` and `.otherwise()`.  "
      ]
    },
    {
      "cell_type": "code",
      "metadata": {
        "id": "mtQkHJ_iuO3Y",
        "colab_type": "code",
        "colab": {}
      },
      "source": [
        "from pyspark.sql.functions import when\n",
        "\n",
        "## changing the values in the education column\n",
        "new_spark_df = spark_df.withColumn('EDUCATION',\n",
        "                                   when(spark_df.EDUCATION == '0', 'Other')\\\n",
        "                                   .when(spark_df.EDUCATION == '5', 'Other')\\\n",
        "                                   .when(spark_df.EDUCATION == '6', 'Other')\\\n",
        "                                   .otherwise(spark_df['EDUCATION']))\n",
        "## changing the values in the marriage column\n",
        "\n",
        "spark_df_done = new_spark_df.withColumn('MARRIAGE',\n",
        "                                        when(spark_df.MARRIAGE == '0', 'Other')\\\n",
        "                                        .otherwise(spark_df['MARRIAGE']))"
      ],
      "execution_count": 9,
      "outputs": []
    },
    {
      "cell_type": "code",
      "metadata": {
        "id": "vrprrQguuO3b",
        "colab_type": "code",
        "colab": {
          "base_uri": "https://localhost:8080/",
          "height": 54
        },
        "outputId": "6100ff6d-3665-4d42-94a2-36b07af80766"
      },
      "source": [
        "spark_df_done.head()"
      ],
      "execution_count": 8,
      "outputs": [
        {
          "output_type": "execute_result",
          "data": {
            "text/plain": [
              "Row(ID=2, LIMIT_BAL=120000.0, SEX='Female', EDUCATION='College', MARRIAGE='Single', AGE=26, PAY_0=-1, PAY_2=2, PAY_3=0, PAY_4=0, PAY_5=0, PAY_6=2, BILL_AMT1=2682.0, BILL_AMT2=1725.0, BILL_AMT3=2682.0, BILL_AMT4=3272.0, BILL_AMT5=3455.0, BILL_AMT6=3261.0, PAY_AMT1=0.0, PAY_AMT2=1000.0, PAY_AMT3=1000.0, PAY_AMT4=1000.0, PAY_AMT5=0.0, PAY_AMT6=2000.0, default=1)"
            ]
          },
          "metadata": {
            "tags": []
          },
          "execution_count": 8
        }
      ]
    },
    {
      "cell_type": "markdown",
      "metadata": {
        "id": "pZn3ZCuNuO3f",
        "colab_type": "text"
      },
      "source": [
        "Now let's take a look at all the values contained in the categorical columns of the DataFrame: "
      ]
    },
    {
      "cell_type": "code",
      "metadata": {
        "id": "hDCNALd9uO3h",
        "colab_type": "code",
        "colab": {
          "base_uri": "https://localhost:8080/",
          "height": 88
        },
        "outputId": "18401fff-221c-45ac-e17d-f59dd9ee6e02"
      },
      "source": [
        "for column, data_type in spark_df_done.dtypes:\n",
        "   if data_type == 'string':\n",
        "     print('Feature ', column, ' has:', spark_df_done.select(column).distinct().collect())"
      ],
      "execution_count": 10,
      "outputs": [
        {
          "output_type": "stream",
          "text": [
            "Feature  SEX  has: [Row(SEX='Female'), Row(SEX='Male')]\n",
            "Feature  EDUCATION  has: [Row(EDUCATION='High School'), Row(EDUCATION='Other'), Row(EDUCATION='Graduate'), Row(EDUCATION='College')]\n",
            "Feature  MARRIAGE  has: [Row(MARRIAGE='Other'), Row(MARRIAGE='Married'), Row(MARRIAGE='Single')]\n"
          ],
          "name": "stdout"
        }
      ]
    },
    {
      "cell_type": "markdown",
      "metadata": {
        "id": "QfkXHJVkuO3l",
        "colab_type": "text"
      },
      "source": [
        "Much better. Now, let's do a little more investigation into our target variable before diving into the machine learning aspect of this project."
      ]
    },
    {
      "cell_type": "markdown",
      "metadata": {
        "id": "dE_6nBqruO3l",
        "colab_type": "text"
      },
      "source": [
        "##  EDA\n",
        "\n",
        "Let's first look at the overall distribution of class balance of the default and not default labels. Create a barplot to compare the number of defaults vs. non-defaults. This will require using `.groupBy()` as well as an aggregation method."
      ]
    },
    {
      "cell_type": "code",
      "metadata": {
        "id": "HQn2YteduO3m",
        "colab_type": "code",
        "colab": {
          "base_uri": "https://localhost:8080/",
          "height": 265
        },
        "outputId": "89ed7cda-2be6-47f9-fadf-51e22cfdf59d"
      },
      "source": [
        "defaults = spark_df_done.groupBy('default').count().collect()\n",
        "sns.barplot([x[0] for x in defaults], [x[1] for x in defaults])\n",
        "plt.xticks([0, 1], labels=['No Default (0)', 'Default (1)'])\n",
        "plt.ylabel('Number of Defaults')\n",
        "plt.show()"
      ],
      "execution_count": 11,
      "outputs": [
        {
          "output_type": "display_data",
          "data": {
            "image/png": "[encoded data removed]",
            "text/plain": [
              "<Figure size 432x288 with 1 Axes>"
            ]
          },
          "metadata": {
            "tags": [],
            "needs_background": "light"
          }
        }
      ]
    },
    {
      "cell_type": "markdown",
      "metadata": {
        "id": "IXY7gdtZuO3q",
        "colab_type": "text"
      },
      "source": [
        "Let's also visualize the difference in default rate between males and females in this dataset."
      ]
    },
    {
      "cell_type": "code",
      "metadata": {
        "id": "PD6egJD9uO3r",
        "colab_type": "code",
        "colab": {
          "base_uri": "https://localhost:8080/",
          "height": 85
        },
        "outputId": "0e59f196-e244-4e0b-b3bd-4b3aff7b3430"
      },
      "source": [
        "# perform a groupby for default and sex\n",
        "groups = spark_df_done.groupBy(['default', 'SEX']).count().collect()\n",
        "groups"
      ],
      "execution_count": 12,
      "outputs": [
        {
          "output_type": "execute_result",
          "data": {
            "text/plain": [
              "[Row(default=1, SEX='Female', count=3762),\n",
              " Row(default=0, SEX='Male', count=9015),\n",
              " Row(default=1, SEX='Male', count=2873),\n",
              " Row(default=0, SEX='Female', count=14349)]"
            ]
          },
          "metadata": {
            "tags": []
          },
          "execution_count": 12
        }
      ]
    },
    {
      "cell_type": "code",
      "metadata": {
        "id": "VmmWEkqnuO3u",
        "colab_type": "code",
        "colab": {
          "base_uri": "https://localhost:8080/",
          "height": 298
        },
        "outputId": "117d6255-7de4-4083-f9ef-e1ed3130e455"
      },
      "source": [
        "female = [groups[0], groups[3]]\n",
        "male = [groups[1], groups[2]]\n",
        "\n",
        "# make barplot for female and male default v no default rate\n",
        "fig, axes = plt.subplots(1,2)\n",
        "fig.set_figwidth(10)\n",
        "\n",
        "sns.barplot([x[0] for x in female], [x[2] for x in female], ax=axes[0])\n",
        "\n",
        "sns.barplot([x[0] for x in male], [x[2] for x in male], ax=axes[1])\n",
        "axes[0].set_xticklabels(['No Default (0)', 'Default (1)'])\n",
        "axes[1].set_xticklabels(['No Default (0)', 'Default (1)'])\n",
        "\n",
        "axes[0].set_ylabel('Number of Defaults')\n",
        "\n",
        "axes[0].set_title('Female Defaults')\n",
        "axes[1].set_title('Male Defaults')"
      ],
      "execution_count": 13,
      "outputs": [
        {
          "output_type": "execute_result",
          "data": {
            "text/plain": [
              "Text(0.5, 1.0, 'Male Defaults')"
            ]
          },
          "metadata": {
            "tags": []
          },
          "execution_count": 13
        },
        {
          "output_type": "display_data",
          "data": {
            "image/png": "[encoded data removed]",
            "text/plain": [
              "<Figure size 720x288 with 2 Axes>"
            ]
          },
          "metadata": {
            "tags": [],
            "needs_background": "light"
          }
        }
      ]
    },
    {
      "cell_type": "markdown",
      "metadata": {
        "id": "9sBC5l69uO3x",
        "colab_type": "text"
      },
      "source": [
        "\n",
        "It looks like males have an ever so slightly higher default rate than females."
      ]
    },
    {
      "cell_type": "markdown",
      "metadata": {
        "id": "-pJMOnxfuO3z",
        "colab_type": "text"
      },
      "source": [
        "## Onto the Machine Learning!"
      ]
    },
    {
      "cell_type": "markdown",
      "metadata": {
        "id": "4Vf38IYwuO30",
        "colab_type": "text"
      },
      "source": [
        "Now, it's time to fit the data to the PySpark machine learning model pipeline. You will need:\n",
        "\n",
        "* 3 StringIndexers (for each categorical feature)\n",
        "* A OneHotEncoderEstimator (to encode the newly indexed strings into categorical variables)\n",
        "* A VectorAssembler (to combine all features into one SparseVector)\n",
        "\n",
        "All of these initialized estimators should be stored in a list."
      ]
    },
    {
      "cell_type": "code",
      "metadata": {
        "id": "1PLG28JauO30",
        "colab_type": "code",
        "colab": {
          "base_uri": "https://localhost:8080/",
          "height": 102
        },
        "outputId": "36acefaf-3221-4aaf-9bb3-76de089344c1"
      },
      "source": [
        "# importing the necessary modules\n",
        "from pyspark.ml.feature import StringIndexer, OneHotEncoderEstimator, VectorAssembler\n",
        "\n",
        "# creating the string indexers\n",
        "indexers = []\n",
        "for col in ['SEX', 'EDUCATION', 'MARRIAGE']:\n",
        "  indexers.append(StringIndexer(inputCol=col, outputCol=col+'_',handleInvalid='keep'))\n",
        "input_cols = [indexer.getOutputCol() for indexer in indexers]\n",
        "ohe = OneHotEncoderEstimator(inputCols= input_cols,\n",
        "                             outputCols = [col+'_ohe' for col in input_cols], dropLast=True)\n",
        "\n",
        "# features to be included in the model \n",
        "features = ['LIMIT_BAL','AGE','PAY_0','PAY_2','PAY_3',\n",
        "            'PAY_4','PAY_5','PAY_6', 'BILL_AMT1','BILL_AMT2',\n",
        "            'BILL_AMT3','BILL_AMT4','BILL_AMT5','BILL_AMT6']\n",
        "\n",
        "# adding the categorical features\n",
        "features.extend(ohe.getOutputCols())\n",
        "\n",
        "# putting all of the features into a single vector\n",
        "vector = VectorAssembler(inputCols = features, outputCol='features')\n",
        "\n",
        "stages = []\n",
        "stages.extend(indexers)\n",
        "stages.extend([ohe, vector])\n",
        "stages"
      ],
      "execution_count": 14,
      "outputs": [
        {
          "output_type": "execute_result",
          "data": {
            "text/plain": [
              "[StringIndexer_8986dd5f81f9,\n",
              " StringIndexer_bdd81676672d,\n",
              " StringIndexer_ad7fdc91daec,\n",
              " OneHotEncoderEstimator_f003a75f96ae,\n",
              " VectorAssembler_849a0bb7fedc]"
            ]
          },
          "metadata": {
            "tags": []
          },
          "execution_count": 14
        }
      ]
    },
    {
      "cell_type": "markdown",
      "metadata": {
        "id": "KkCruUMguO35",
        "colab_type": "text"
      },
      "source": [
        "Alright! Now let's see if that worked. Let's investigate how it transforms your dataset. Put all of the stages in a Pipeline and fit it to your data. Look at the features column. Did you obtain the number of features you expected?"
      ]
    },
    {
      "cell_type": "code",
      "metadata": {
        "id": "ms3kjbUzuO35",
        "colab_type": "code",
        "colab": {
          "base_uri": "https://localhost:8080/",
          "height": 54
        },
        "outputId": "ddfb593d-8020-49ae-f039-11fa6abeb2e7"
      },
      "source": [
        "from pyspark.ml.pipeline import Pipeline\n",
        "pipe = Pipeline(stages=stages)\n",
        "data_transformer = pipe.fit(spark_df_done)\n",
        "transformed_data = data_transformer.transform(spark_df_done)\n",
        "p = transformed_data.select('features')\n",
        "p.head()\n",
        "# 17 numerical features and 6 categorical ones (the argument dropLast = True makes us have Sex, 3 Edu variables and 2 marriage)"
      ],
      "execution_count": 15,
      "outputs": [
        {
          "output_type": "execute_result",
          "data": {
            "text/plain": [
              "Row(features=SparseVector(23, {0: 120000.0, 1: 26.0, 2: -1.0, 3: 2.0, 7: 2.0, 8: 2682.0, 9: 1725.0, 10: 2682.0, 11: 3272.0, 12: 3455.0, 13: 3261.0, 14: 1.0, 16: 1.0, 20: 1.0}))"
            ]
          },
          "metadata": {
            "tags": []
          },
          "execution_count": 15
        }
      ]
    },
    {
      "cell_type": "markdown",
      "metadata": {
        "id": "FLOmtQ5LuO38",
        "colab_type": "text"
      },
      "source": [
        "## Fitting Machine Learning Models\n",
        "That looks good! Now let's go ahead and fit data to different machine learning models. To evaluate these models, you should use the `BinaryClassificationEvaluator`. Below is an import of all the classes and libraries you'll need in the remainder of this lab."
      ]
    },
    {
      "cell_type": "code",
      "metadata": {
        "id": "hMKGadFUuO39",
        "colab_type": "code",
        "colab": {}
      },
      "source": [
        "from pyspark.ml.classification import GBTClassifier, DecisionTreeClassifier, LogisticRegression, RandomForestClassifier\n",
        "from pyspark.ml.tuning import ParamGridBuilder, CrossValidator, TrainValidationSplit\n",
        "from pyspark.ml.evaluation import BinaryClassificationEvaluator\n",
        "import numpy as np"
      ],
      "execution_count": 16,
      "outputs": []
    },
    {
      "cell_type": "markdown",
      "metadata": {
        "id": "BG6EEkO4uO4B",
        "colab_type": "text"
      },
      "source": [
        "### Logistic Regression\n",
        "\n",
        "First, we'll try with a simple Logistic Regression Model:\n",
        "\n",
        "* instantiate a logistic regression model\n",
        "* add it to the stages list\n",
        "* instantiate a new Pipeline estimator (not fit) with all of the stages\n",
        "* instantiate an `BinaryClassificationEvaluator`\n",
        "* create parameters to gridsearch through using `ParamGridBuilder`\n",
        "* Instantiate and fit a `CrossValidator` "
      ]
    },
    {
      "cell_type": "code",
      "metadata": {
        "id": "oZSUZZGruO4C",
        "colab_type": "code",
        "colab": {}
      },
      "source": [
        "lr = LogisticRegression(featuresCol='features', labelCol='default')\n",
        "p = Pipeline(stages=stages + [lr])\n",
        "evaluation = BinaryClassificationEvaluator(labelCol ='default', metricName='areaUnderROC')\n",
        "\n",
        "lr_params = ParamGridBuilder().addGrid(lr.regParam,[0.0,0.2,0.5,1.0])\\\n",
        ".addGrid(lr.standardization,[True,False])\\\n",
        ".build()\n",
        "\n",
        "cv = CrossValidator(estimator=p, estimatorParamMaps=lr_params,evaluator=evaluation,parallelism=4)\n",
        "model = cv.fit(spark_df_done)"
      ],
      "execution_count": 17,
      "outputs": []
    },
    {
      "cell_type": "markdown",
      "metadata": {
        "id": "MbPk0irJuO4E",
        "colab_type": "text"
      },
      "source": [
        "Determine how well your model performed by looking at the evaluator metrics. If you tried multiple parameters, which performed best?"
      ]
    },
    {
      "cell_type": "code",
      "metadata": {
        "id": "VhlesedQuO4F",
        "colab_type": "code",
        "colab": {
          "base_uri": "https://localhost:8080/",
          "height": 71
        },
        "outputId": "d07f023c-0f33-4df1-910b-a2a9a9e66bc7"
      },
      "source": [
        "index_best_model = np.argmax(model.avgMetrics)\n",
        "print(model.avgMetrics[index_best_model],'AUC')\n",
        "print('best parameters : ',lr_params[index_best_model])"
      ],
      "execution_count": 18,
      "outputs": [
        {
          "output_type": "stream",
          "text": [
            "0.7179310094460917 AUC\n",
            "best parameters :  {Param(parent='LogisticRegression_4a5ecbf2cab4', name='regParam', doc='regularization parameter (>= 0).'): 0.0, Param(parent='LogisticRegression_4a5ecbf2cab4', name='standardization', doc='whether to standardize the training features before fitting the model.'): True}\n"
          ],
          "name": "stdout"
        }
      ]
    },
    {
      "cell_type": "markdown",
      "metadata": {
        "id": "PzWIEU4XuO4I",
        "colab_type": "text"
      },
      "source": [
        "#### Now try this again with other classifiers. Try and create a function that will allow you to easily test different models with different parameters. This function is optional, but it should allow for your code to be far more D.R.Y. The function should return the fitted cross-validated model as well as print out the performance metrics of the best performing model and the best parameters."
      ]
    },
    {
      "cell_type": "code",
      "metadata": {
        "id": "vQu7T5DuuO4J",
        "colab_type": "code",
        "colab": {}
      },
      "source": [
        "# create function to cross validate models with different parameters\n",
        "def create_model(ml_model,\n",
        "                 preprocessing_stages,\n",
        "                 param_grid,\n",
        "                 parallel = 4,\n",
        "                 evaluation_metric = 'areaUnderROC',\n",
        "                 parafeaturesCol = 'features',\n",
        "                 label='default'):\n",
        "    \n",
        "    stages_with_ml = preprocessing_stages + [ml_model]\n",
        "    pipe = Pipeline(stages=stages_with_ml)\n",
        "    \n",
        "    evaluation = BinaryClassificationEvaluator(labelCol = label ,metricName=evaluation_metric)\n",
        "    model = CrossValidator(estimator = pipe,\n",
        "                        estimatorParamMaps=param_grid,\n",
        "                        evaluator = evaluation,\n",
        "                       parallelism = parallel).fit(spark_df_done)\n",
        "\n",
        "    index_best_model = np.argmax(model.avgMetrics)\n",
        "    print('best performing model: ', model.avgMetrics[index_best_model],'AUC')\n",
        "    print('best parameters: ',param_grid[index_best_model])\n",
        "    return model\n"
      ],
      "execution_count": 19,
      "outputs": []
    },
    {
      "cell_type": "markdown",
      "metadata": {
        "id": "7UgzDC9OuO4M",
        "colab_type": "text"
      },
      "source": [
        "Train a Random Forest classifier and determine the best performing model with the best parameters. This might take a while! Be smart about how you use parallelization here."
      ]
    },
    {
      "cell_type": "code",
      "metadata": {
        "id": "Bf8pI3riuO4M",
        "colab_type": "code",
        "colab": {
          "base_uri": "https://localhost:8080/",
          "height": 71
        },
        "outputId": "873ff610-5b6d-4d9f-c361-1ea9e47d08e0"
      },
      "source": [
        "# code to train Random Forest Classifier\n",
        "# ⏰ This cell may take a long time to run\n",
        "rf = RandomForestClassifier(featuresCol='features',labelCol='default')\n",
        "rf_params = ParamGridBuilder()\\\n",
        ".addGrid(rf.maxDepth, [5,10])\\\n",
        " .addGrid(rf.numTrees, [20,50,100,200])\\\n",
        " .build()\n",
        "\n",
        "rf_model = create_model(rf,stages,rf_params)"
      ],
      "execution_count": 20,
      "outputs": [
        {
          "output_type": "stream",
          "text": [
            "best performing model:  0.7799941225364211 AUC\n",
            "best parameters:  {Param(parent='RandomForestClassifier_6a4aca277b8e', name='maxDepth', doc='Maximum depth of the tree. (>= 0) E.g., depth 0 means 1 leaf node; depth 1 means 1 internal node + 2 leaf nodes.'): 10, Param(parent='RandomForestClassifier_6a4aca277b8e', name='numTrees', doc='Number of trees to train (>= 1).'): 100}\n"
          ],
          "name": "stdout"
        }
      ]
    },
    {
      "cell_type": "markdown",
      "metadata": {
        "id": "A1xcV9mVuO4V",
        "colab_type": "text"
      },
      "source": [
        "Now train a Gradient Boosting Classifier. **This might take a very long time depending on the number of parameters you are training**"
      ]
    },
    {
      "cell_type": "code",
      "metadata": {
        "id": "WolvyuNwuO4V",
        "colab_type": "code",
        "colab": {
          "base_uri": "https://localhost:8080/",
          "height": 71
        },
        "outputId": "2e87da10-3f02-42b2-95cf-f64b3108b1a0"
      },
      "source": [
        "# code to train Gradient Boosting Classifier\n",
        "# ⏰ This cell may take a long time to run\n",
        "gb = GBTClassifier(featuresCol='features',labelCol='default')\n",
        "param_gb = ParamGridBuilder().addGrid(gb.maxDepth,[1,5]).addGrid(gb.maxIter,[20,50,100]).build()\n",
        "\n",
        "gb_model = create_model(gb,stages, param_grid=param_gb, parallel=4)"
      ],
      "execution_count": 21,
      "outputs": [
        {
          "output_type": "stream",
          "text": [
            "best performing model:  0.7783309747205968 AUC\n",
            "best parameters:  {Param(parent='GBTClassifier_c7badfbdb92a', name='maxDepth', doc='Maximum depth of the tree. (>= 0) E.g., depth 0 means 1 leaf node; depth 1 means 1 internal node + 2 leaf nodes.'): 5, Param(parent='GBTClassifier_c7badfbdb92a', name='maxIter', doc='max number of iterations (>= 0).'): 50}\n"
          ],
          "name": "stdout"
        }
      ]
    },
    {
      "cell_type": "markdown",
      "metadata": {
        "id": "O9beCiUUuO4Y",
        "colab_type": "text"
      },
      "source": [
        "It looks like the optimal performing model is the Random Forest Classifier Model because it has the highest AUC!\n",
        "\n",
        "## Level Up (Optional)\n",
        "\n",
        "* Create ROC curves for each of these models\n",
        "* Try the multi-layer perceptron classifier algorithm. You will soon learn about what this means in the neural network section!"
      ]
    },
    {
      "cell_type": "markdown",
      "metadata": {
        "id": "EEi9Gy4CuO4Y",
        "colab_type": "text"
      },
      "source": [
        "## Summary\n",
        "\n",
        "If you've made it thus far, congratulations! Spark is an in-demand skill, but it is not particularly easy to master. In this lesson, you fit multiple different machine learning pipelines for a classification problem. If you want to take your Spark skills to the next level, connect to a distributed cluster using a service like AWS or Databricks and perform these Spark operations on the cloud."
      ]
    }
  ]
}